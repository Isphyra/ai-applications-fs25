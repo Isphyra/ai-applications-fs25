{
 "cells": [
  {
   "cell_type": "code",
   "execution_count": null,
   "metadata": {},
   "outputs": [],
   "source": [
    "import pandas as pd\n",
    "import numpy as np\n",
    "from sklearn.linear_model import LinearRegression\n",
    "from sklearn.model_selection import train_test_split\n",
    "import gradio as gr\n",
    "\n",
    "# Laden der Datensätze\n",
    "df_bfs = pd.read_csv('bfs_municipality_and_tax_data.csv', encoding='utf-8', sep=',')\n",
    "df_super = pd.read_csv('supermarkets_data_enriched.csv', encoding='utf-8', sep=',')"
   ]
  },
  {
   "cell_type": "code",
   "execution_count": null,
   "metadata": {},
   "outputs": [],
   "source": [
    "# TODO change the file to your own model.\n",
    "model_filename = \"random_forest_regression.pkl\"\n",
    "\n",
    "random_forest_model = RandomForestRegressor()\n",
    "with open(model_filename, 'rb') as f:\n",
    "    random_forest_model = pickle.load(f)\n",
    "\n",
    "print('Number of features: ', random_forest_model.n_features_in_)\n",
    "print('Features are (see week 1): ', ['rooms', 'area', 'pop', 'pop_dens', 'frg_pct', 'emp', 'tax_income'])\n",
    "random_forest_model"
   ]
  },
  {
   "cell_type": "code",
   "execution_count": null,
   "metadata": {},
   "outputs": [],
   "source": [
    "df_bfs_data = pd.read_csv('bfs_municipality_and_tax_data.csv', sep=',', encoding='utf-8')\n",
    "df_bfs_data['tax_income'] = df_bfs_data['tax_income'].str.replace(\"'\", \"\").astype(float)"
   ]
  }
 ],
 "metadata": {
  "kernelspec": {
   "display_name": "Ai_application",
   "language": "python",
   "name": "python3"
  },
  "language_info": {
   "codemirror_mode": {
    "name": "ipython",
    "version": 3
   },
   "file_extension": ".py",
   "mimetype": "text/x-python",
   "name": "python",
   "nbconvert_exporter": "python",
   "pygments_lexer": "ipython3",
   "version": "3.12.9"
  }
 },
 "nbformat": 4,
 "nbformat_minor": 2
}
